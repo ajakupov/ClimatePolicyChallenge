{
 "metadata": {
  "language_info": {
   "codemirror_mode": {
    "name": "ipython",
    "version": 3
   },
   "file_extension": ".py",
   "mimetype": "text/x-python",
   "name": "python",
   "nbconvert_exporter": "python",
   "pygments_lexer": "ipython3",
   "version": "3.6.5"
  },
  "orig_nbformat": 2,
  "kernelspec": {
   "name": "python3",
   "display_name": "Python 3.6.5 64-bit",
   "metadata": {
    "interpreter": {
     "hash": "14a3dea41308786c6250116f63170ee1ce4906f9726caa7e8b5b84d6f314e26b"
    }
   }
  }
 },
 "nbformat": 4,
 "nbformat_minor": 2,
 "cells": [
  {
   "cell_type": "code",
   "execution_count": 1,
   "metadata": {},
   "outputs": [],
   "source": [
    "import string\n",
    "import re\n",
    "import os\n",
    "import numpy as np\n",
    "import pandas as pd\n",
    "\n",
    "from io import StringIO\n",
    "from html.parser import HTMLParser"
   ]
  },
  {
   "cell_type": "code",
   "execution_count": 2,
   "metadata": {},
   "outputs": [],
   "source": [
    "DATA_DIR = '../data'"
   ]
  },
  {
   "cell_type": "code",
   "execution_count": 3,
   "metadata": {},
   "outputs": [],
   "source": [
    "class MLStripper(HTMLParser):\n",
    "    def __init__(self):\n",
    "        super().__init__()\n",
    "        self.reset()\n",
    "        self.strict = False\n",
    "        self.convert_charrefs = True\n",
    "        self.text = StringIO()\n",
    "\n",
    "    def handle_data(self, d):\n",
    "        self.text.write(d)\n",
    "\n",
    "    def get_data(self):\n",
    "        return self.text.getvalue()"
   ]
  },
  {
   "cell_type": "code",
   "execution_count": 4,
   "metadata": {},
   "outputs": [],
   "source": [
    "def strip_tags(html):\n",
    "    s = MLStripper()\n",
    "    s.feed(str(html))\n",
    "    return s.get_data()\n",
    "\n",
    "def remove_tabulations(text):\n",
    "    text = str(text)\n",
    "    return(text.replace(\"\\r\", ' ').replace(\"\\t\", ' ').replace(\"\\n\", ' '))\n",
    "\n",
    "def clean_text(text):\n",
    "    # Remove HTML tags\n",
    "    text = strip_tags(text)\n",
    "    # Remove tabulation\n",
    "    text = remove_tabulations(text)\n",
    "    # convert to lower case\n",
    "    text = text.lower()\n",
    "    # Remove special characters\n",
    "    text = re.sub('\\[.*?\\]', ' ', text)\n",
    "    # Remove punctuation\n",
    "    text = re.sub('[%s]' % re.escape(string.punctuation), ' ', text)\n",
    "    # normalize whitespace\n",
    "    text = ' '.join(text.split())\n",
    "    return text\n",
    "\n",
    "def clean_text_basic(text):\n",
    "    # remove whitespace before and after\n",
    "    text = text.strip()\n",
    "    # normalize whitespace\n",
    "    text = ' '.join(text.split())\n",
    "    return text\n",
    "\n",
    "def clean_text_for_indexing(text):\n",
    "    # Remove HTML tags\n",
    "    text = strip_tags(text)\n",
    "    # Remove tabulation\n",
    "    text = remove_tabulations(text)\n",
    "    # normalize whitespace\n",
    "    text = ' '.join(text.split())\n",
    "    return text"
   ]
  },
  {
   "cell_type": "code",
   "execution_count": 5,
   "metadata": {},
   "outputs": [],
   "source": [
    "laws_path = os.path.join(DATA_DIR, 'Climate Laws targets-23_03_2021.csv')\n",
    "events_path = os.path.join(DATA_DIR, 'events-23_03_2021.csv')\n",
    "legislations_path = os.path.join(DATA_DIR, 'legislations-23_03_2021.csv')"
   ]
  },
  {
   "cell_type": "code",
   "execution_count": 6,
   "metadata": {},
   "outputs": [],
   "source": [
    "# Add engine 'python' to avoid UnicodeDecodeError, as the cell values are surrounded by double quotes\n",
    "laws = pd.read_csv(laws_path, sep=',', engine='python')\n",
    "events = pd.read_csv(events_path, sep=',', engine='python')\n",
    "legislations = pd.read_csv(legislations_path, sep=',', engine='python')"
   ]
  },
  {
   "cell_type": "code",
   "execution_count": 7,
   "metadata": {},
   "outputs": [],
   "source": [
    "laws['Description']=laws['Description'].apply(lambda x: clean_text_for_indexing(x))\n",
    "events['Description']=events['Description'].apply(lambda x: clean_text_for_indexing(x))\n",
    "legislations['Description']=legislations['Description'].apply(lambda x: clean_text_for_indexing(x))"
   ]
  },
  {
   "cell_type": "code",
   "execution_count": 8,
   "metadata": {},
   "outputs": [],
   "source": [
    "# for a better modeling add prefixes to avoid columns overlapping\n",
    "laws.columns = ['Laws'+column for column in laws.columns]\n",
    "events.columns = ['Events'+column for column in events.columns]\n",
    "legislations.columns = ['Legislations'+column for column in legislations.columns]"
   ]
  },
  {
   "cell_type": "code",
   "execution_count": 10,
   "metadata": {},
   "outputs": [
    {
     "output_type": "execute_result",
     "data": {
      "text/plain": [
       "   LawsId LawsTarget type                                    LawsDescription  \\\n",
       "0    8977  not_applicable  Seaports and airports functioning within one w...   \n",
       "1    8976  not_applicable  90% of the population able to identify the pil...   \n",
       "2    8975  not_applicable  100% of national budgeting, policies in place ...   \n",
       "3    8974  not_applicable  50% increase healthy coral reef coverage to su...   \n",
       "4    8973  not_applicable  100% of telecommunications restored within thr...   \n",
       "\n",
       "   LawsGhg target  LawsYear LawsBase year period  LawsSingle year LawsSource  \\\n",
       "0           False    2030.0                  NaN            False       plan   \n",
       "1           False    2030.0                  NaN            False       plan   \n",
       "2           False    2030.0                  NaN            False       plan   \n",
       "3           False    2030.0                  NaN            False       plan   \n",
       "4           False       NaN                  NaN            False       plan   \n",
       "\n",
       "  LawsGeography LawsGeography iso                      LawsSector  \\\n",
       "0      Dominica               DMA  Disaster Risk Management (Drm)   \n",
       "1      Dominica               DMA                           Other   \n",
       "2      Dominica               DMA                   Public Sector   \n",
       "3      Dominica               DMA                      Adaptation   \n",
       "4      Dominica               DMA  Disaster Risk Management (Drm)   \n",
       "\n",
       "  LawsConnected law ids LawsScopes LawsVisibility status  \n",
       "0                  9751        NaN             published  \n",
       "1                  9751        NaN             published  \n",
       "2                  9751        NaN             published  \n",
       "3                  9751        NaN             published  \n",
       "4                  9751        NaN             published  "
      ],
      "text/html": "<div>\n<style scoped>\n    .dataframe tbody tr th:only-of-type {\n        vertical-align: middle;\n    }\n\n    .dataframe tbody tr th {\n        vertical-align: top;\n    }\n\n    .dataframe thead th {\n        text-align: right;\n    }\n</style>\n<table border=\"1\" class=\"dataframe\">\n  <thead>\n    <tr style=\"text-align: right;\">\n      <th></th>\n      <th>LawsId</th>\n      <th>LawsTarget type</th>\n      <th>LawsDescription</th>\n      <th>LawsGhg target</th>\n      <th>LawsYear</th>\n      <th>LawsBase year period</th>\n      <th>LawsSingle year</th>\n      <th>LawsSource</th>\n      <th>LawsGeography</th>\n      <th>LawsGeography iso</th>\n      <th>LawsSector</th>\n      <th>LawsConnected law ids</th>\n      <th>LawsScopes</th>\n      <th>LawsVisibility status</th>\n    </tr>\n  </thead>\n  <tbody>\n    <tr>\n      <th>0</th>\n      <td>8977</td>\n      <td>not_applicable</td>\n      <td>Seaports and airports functioning within one w...</td>\n      <td>False</td>\n      <td>2030.0</td>\n      <td>NaN</td>\n      <td>False</td>\n      <td>plan</td>\n      <td>Dominica</td>\n      <td>DMA</td>\n      <td>Disaster Risk Management (Drm)</td>\n      <td>9751</td>\n      <td>NaN</td>\n      <td>published</td>\n    </tr>\n    <tr>\n      <th>1</th>\n      <td>8976</td>\n      <td>not_applicable</td>\n      <td>90% of the population able to identify the pil...</td>\n      <td>False</td>\n      <td>2030.0</td>\n      <td>NaN</td>\n      <td>False</td>\n      <td>plan</td>\n      <td>Dominica</td>\n      <td>DMA</td>\n      <td>Other</td>\n      <td>9751</td>\n      <td>NaN</td>\n      <td>published</td>\n    </tr>\n    <tr>\n      <th>2</th>\n      <td>8975</td>\n      <td>not_applicable</td>\n      <td>100% of national budgeting, policies in place ...</td>\n      <td>False</td>\n      <td>2030.0</td>\n      <td>NaN</td>\n      <td>False</td>\n      <td>plan</td>\n      <td>Dominica</td>\n      <td>DMA</td>\n      <td>Public Sector</td>\n      <td>9751</td>\n      <td>NaN</td>\n      <td>published</td>\n    </tr>\n    <tr>\n      <th>3</th>\n      <td>8974</td>\n      <td>not_applicable</td>\n      <td>50% increase healthy coral reef coverage to su...</td>\n      <td>False</td>\n      <td>2030.0</td>\n      <td>NaN</td>\n      <td>False</td>\n      <td>plan</td>\n      <td>Dominica</td>\n      <td>DMA</td>\n      <td>Adaptation</td>\n      <td>9751</td>\n      <td>NaN</td>\n      <td>published</td>\n    </tr>\n    <tr>\n      <th>4</th>\n      <td>8973</td>\n      <td>not_applicable</td>\n      <td>100% of telecommunications restored within thr...</td>\n      <td>False</td>\n      <td>NaN</td>\n      <td>NaN</td>\n      <td>False</td>\n      <td>plan</td>\n      <td>Dominica</td>\n      <td>DMA</td>\n      <td>Disaster Risk Management (Drm)</td>\n      <td>9751</td>\n      <td>NaN</td>\n      <td>published</td>\n    </tr>\n  </tbody>\n</table>\n</div>"
     },
     "metadata": {},
     "execution_count": 10
    }
   ],
   "source": [
    "laws.head()"
   ]
  },
  {
   "cell_type": "code",
   "execution_count": 20,
   "metadata": {},
   "outputs": [
    {
     "output_type": "execute_result",
     "data": {
      "text/plain": [
       "'Decree-Law No. 117/2010, regulating sustainability criteria for production and use of biofuel and bio liquids, amended by Decree-Law 6/2012 and Decree-Law 8/2021'"
      ]
     },
     "metadata": {},
     "execution_count": 20
    }
   ],
   "source": [
    "legislations['LegislationsTitle'][0]"
   ]
  },
  {
   "cell_type": "code",
   "execution_count": 12,
   "metadata": {},
   "outputs": [],
   "source": [
    "laws_legislations =  pd.merge(laws, legislations, how='outer', left_on=['LawsId'], right_on=['LegislationsLaw Id'])"
   ]
  },
  {
   "cell_type": "code",
   "execution_count": 13,
   "metadata": {},
   "outputs": [
    {
     "output_type": "execute_result",
     "data": {
      "text/plain": [
       "   LawsId LawsTarget type                                    LawsDescription  \\\n",
       "0  8977.0  not_applicable  Seaports and airports functioning within one w...   \n",
       "1  8976.0  not_applicable  90% of the population able to identify the pil...   \n",
       "2  8975.0  not_applicable  100% of national budgeting, policies in place ...   \n",
       "3  8974.0  not_applicable  50% increase healthy coral reef coverage to su...   \n",
       "4  8973.0  not_applicable  100% of telecommunications restored within thr...   \n",
       "\n",
       "  LawsGhg target  LawsYear LawsBase year period LawsSingle year LawsSource  \\\n",
       "0          False    2030.0                  NaN           False       plan   \n",
       "1          False    2030.0                  NaN           False       plan   \n",
       "2          False    2030.0                  NaN           False       plan   \n",
       "3          False    2030.0                  NaN           False       plan   \n",
       "4          False       NaN                  NaN           False       plan   \n",
       "\n",
       "  LawsGeography LawsGeography iso              ...               \\\n",
       "0      Dominica               DMA              ...                \n",
       "1      Dominica               DMA              ...                \n",
       "2      Dominica               DMA              ...                \n",
       "3      Dominica               DMA              ...                \n",
       "4      Dominica               DMA              ...                \n",
       "\n",
       "  LegislationsParent LegislationsGeography LegislationsGeography iso  \\\n",
       "0                NaN                   NaN                       NaN   \n",
       "1                NaN                   NaN                       NaN   \n",
       "2                NaN                   NaN                       NaN   \n",
       "3                NaN                   NaN                       NaN   \n",
       "4                NaN                   NaN                       NaN   \n",
       "\n",
       "  LegislationsSector  LegislationsFrameworks  LegislationsResponses  \\\n",
       "0                NaN                     NaN                    NaN   \n",
       "1                NaN                     NaN                    NaN   \n",
       "2                NaN                     NaN                    NaN   \n",
       "3                NaN                     NaN                    NaN   \n",
       "4                NaN                     NaN                    NaN   \n",
       "\n",
       "  LegislationsDocument types LegislationsKeywords LegislationsNatural hazards  \\\n",
       "0                        NaN                  NaN                         NaN   \n",
       "1                        NaN                  NaN                         NaN   \n",
       "2                        NaN                  NaN                         NaN   \n",
       "3                        NaN                  NaN                         NaN   \n",
       "4                        NaN                  NaN                         NaN   \n",
       "\n",
       "  LegislationsVisibility status  \n",
       "0                           NaN  \n",
       "1                           NaN  \n",
       "2                           NaN  \n",
       "3                           NaN  \n",
       "4                           NaN  \n",
       "\n",
       "[5 rows x 29 columns]"
      ],
      "text/html": "<div>\n<style scoped>\n    .dataframe tbody tr th:only-of-type {\n        vertical-align: middle;\n    }\n\n    .dataframe tbody tr th {\n        vertical-align: top;\n    }\n\n    .dataframe thead th {\n        text-align: right;\n    }\n</style>\n<table border=\"1\" class=\"dataframe\">\n  <thead>\n    <tr style=\"text-align: right;\">\n      <th></th>\n      <th>LawsId</th>\n      <th>LawsTarget type</th>\n      <th>LawsDescription</th>\n      <th>LawsGhg target</th>\n      <th>LawsYear</th>\n      <th>LawsBase year period</th>\n      <th>LawsSingle year</th>\n      <th>LawsSource</th>\n      <th>LawsGeography</th>\n      <th>LawsGeography iso</th>\n      <th>...</th>\n      <th>LegislationsParent</th>\n      <th>LegislationsGeography</th>\n      <th>LegislationsGeography iso</th>\n      <th>LegislationsSector</th>\n      <th>LegislationsFrameworks</th>\n      <th>LegislationsResponses</th>\n      <th>LegislationsDocument types</th>\n      <th>LegislationsKeywords</th>\n      <th>LegislationsNatural hazards</th>\n      <th>LegislationsVisibility status</th>\n    </tr>\n  </thead>\n  <tbody>\n    <tr>\n      <th>0</th>\n      <td>8977.0</td>\n      <td>not_applicable</td>\n      <td>Seaports and airports functioning within one w...</td>\n      <td>False</td>\n      <td>2030.0</td>\n      <td>NaN</td>\n      <td>False</td>\n      <td>plan</td>\n      <td>Dominica</td>\n      <td>DMA</td>\n      <td>...</td>\n      <td>NaN</td>\n      <td>NaN</td>\n      <td>NaN</td>\n      <td>NaN</td>\n      <td>NaN</td>\n      <td>NaN</td>\n      <td>NaN</td>\n      <td>NaN</td>\n      <td>NaN</td>\n      <td>NaN</td>\n    </tr>\n    <tr>\n      <th>1</th>\n      <td>8976.0</td>\n      <td>not_applicable</td>\n      <td>90% of the population able to identify the pil...</td>\n      <td>False</td>\n      <td>2030.0</td>\n      <td>NaN</td>\n      <td>False</td>\n      <td>plan</td>\n      <td>Dominica</td>\n      <td>DMA</td>\n      <td>...</td>\n      <td>NaN</td>\n      <td>NaN</td>\n      <td>NaN</td>\n      <td>NaN</td>\n      <td>NaN</td>\n      <td>NaN</td>\n      <td>NaN</td>\n      <td>NaN</td>\n      <td>NaN</td>\n      <td>NaN</td>\n    </tr>\n    <tr>\n      <th>2</th>\n      <td>8975.0</td>\n      <td>not_applicable</td>\n      <td>100% of national budgeting, policies in place ...</td>\n      <td>False</td>\n      <td>2030.0</td>\n      <td>NaN</td>\n      <td>False</td>\n      <td>plan</td>\n      <td>Dominica</td>\n      <td>DMA</td>\n      <td>...</td>\n      <td>NaN</td>\n      <td>NaN</td>\n      <td>NaN</td>\n      <td>NaN</td>\n      <td>NaN</td>\n      <td>NaN</td>\n      <td>NaN</td>\n      <td>NaN</td>\n      <td>NaN</td>\n      <td>NaN</td>\n    </tr>\n    <tr>\n      <th>3</th>\n      <td>8974.0</td>\n      <td>not_applicable</td>\n      <td>50% increase healthy coral reef coverage to su...</td>\n      <td>False</td>\n      <td>2030.0</td>\n      <td>NaN</td>\n      <td>False</td>\n      <td>plan</td>\n      <td>Dominica</td>\n      <td>DMA</td>\n      <td>...</td>\n      <td>NaN</td>\n      <td>NaN</td>\n      <td>NaN</td>\n      <td>NaN</td>\n      <td>NaN</td>\n      <td>NaN</td>\n      <td>NaN</td>\n      <td>NaN</td>\n      <td>NaN</td>\n      <td>NaN</td>\n    </tr>\n    <tr>\n      <th>4</th>\n      <td>8973.0</td>\n      <td>not_applicable</td>\n      <td>100% of telecommunications restored within thr...</td>\n      <td>False</td>\n      <td>NaN</td>\n      <td>NaN</td>\n      <td>False</td>\n      <td>plan</td>\n      <td>Dominica</td>\n      <td>DMA</td>\n      <td>...</td>\n      <td>NaN</td>\n      <td>NaN</td>\n      <td>NaN</td>\n      <td>NaN</td>\n      <td>NaN</td>\n      <td>NaN</td>\n      <td>NaN</td>\n      <td>NaN</td>\n      <td>NaN</td>\n      <td>NaN</td>\n    </tr>\n  </tbody>\n</table>\n<p>5 rows × 29 columns</p>\n</div>"
     },
     "metadata": {},
     "execution_count": 13
    }
   ],
   "source": [
    "laws_legislations.head()"
   ]
  },
  {
   "cell_type": "code",
   "execution_count": 14,
   "metadata": {},
   "outputs": [],
   "source": [
    "laws_legislations.to_excel(os.path.join(DATA_DIR, \"LawsLegislation.xlsx\"), index=False)"
   ]
  },
  {
   "cell_type": "code",
   "execution_count": 15,
   "metadata": {},
   "outputs": [
    {
     "output_type": "execute_result",
     "data": {
      "text/plain": [
       "Index(['LawsId', 'LawsTarget type', 'LawsDescription', 'LawsGhg target',\n",
       "       'LawsYear', 'LawsBase year period', 'LawsSingle year', 'LawsSource',\n",
       "       'LawsGeography', 'LawsGeography iso', 'LawsSector',\n",
       "       'LawsConnected law ids', 'LawsScopes', 'LawsVisibility status',\n",
       "       'LegislationsId', 'LegislationsLaw Id', 'LegislationsTitle',\n",
       "       'LegislationsLegislation type', 'LegislationsDescription',\n",
       "       'LegislationsParent', 'LegislationsGeography',\n",
       "       'LegislationsGeography iso', 'LegislationsSector',\n",
       "       'LegislationsFrameworks', 'LegislationsResponses',\n",
       "       'LegislationsDocument types', 'LegislationsKeywords',\n",
       "       'LegislationsNatural hazards', 'LegislationsVisibility status'],\n",
       "      dtype='object')"
      ]
     },
     "metadata": {},
     "execution_count": 15
    }
   ],
   "source": [
    "laws_legislations.columns"
   ]
  },
  {
   "cell_type": "code",
   "execution_count": 19,
   "metadata": {},
   "outputs": [],
   "source": [
    "laws_legislations.to_csv(os.path.join(DATA_DIR, \"LawsLegislation.tsv\"), sep='\\t', index=False)"
   ]
  },
  {
   "cell_type": "code",
   "execution_count": null,
   "metadata": {},
   "outputs": [],
   "source": []
  }
 ]
}