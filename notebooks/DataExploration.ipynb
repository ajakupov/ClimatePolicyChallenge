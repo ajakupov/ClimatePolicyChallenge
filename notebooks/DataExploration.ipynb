{
 "cells": [
  {
   "cell_type": "markdown",
   "metadata": {},
   "source": [
    "# This is the explorative notebook. We perform basic statistics and do some basic data modeling\n",
    "## Here are some of the questions we might try to answer:\n",
    "1. what is the focus of policy documents and what tools do they operationalise? For example, here we looked at a series of laws that deal with adapting to climate change (that is - how do we deal with what's already coming, e.g. extreme weather events) and asked a few questions.\n",
    "2. what events are the laws focusing on - droughts? floods? hurricanes? wildfires? It's good to know, because it allows a gap analysis of what are some of the unaddressed challenges - if you are prone to floods, you really want a law that sorts out flood barriers and flood insurance, or planning and resource for wildfire prevention and control if you're in a fire risk area.\n",
    "3. what kind of measures does the document include? are there taxes/subsidies? standards? basically, how does the policy work?\n",
    "\n",
    "The findings from this are summarised in this policy brief. It was a horrible manual job. The subset of laws analysed here can be found if you filter the dataset to include the word adaptation in the 'framework ' field.\n"
   ]
  },
  {
   "cell_type": "code",
   "execution_count": 1,
   "metadata": {},
   "outputs": [],
   "source": [
    "import string\n",
    "import re\n",
    "import os\n",
    "import numpy as np\n",
    "import pandas as pd\n",
    "\n",
    "from io import StringIO\n",
    "from html.parser import HTMLParser"
   ]
  },
  {
   "cell_type": "markdown",
   "metadata": {},
   "source": [
    "## Define the constants"
   ]
  },
  {
   "cell_type": "code",
   "execution_count": 2,
   "metadata": {},
   "outputs": [],
   "source": [
    "DATA_DIR = '../data'"
   ]
  },
  {
   "cell_type": "markdown",
   "metadata": {},
   "source": [
    "## Text preprocessing\n",
    "### Remove html tags, punctuation, tabulation and special chars.\n",
    "### Normalize whitespaces"
   ]
  },
  {
   "cell_type": "code",
   "execution_count": 3,
   "metadata": {},
   "outputs": [],
   "source": [
    "class MLStripper(HTMLParser):\n",
    "    def __init__(self):\n",
    "        super().__init__()\n",
    "        self.reset()\n",
    "        self.strict = False\n",
    "        self.convert_charrefs = True\n",
    "        self.text = StringIO()\n",
    "\n",
    "    def handle_data(self, d):\n",
    "        self.text.write(d)\n",
    "\n",
    "    def get_data(self):\n",
    "        return self.text.getvalue()"
   ]
  },
  {
   "cell_type": "code",
   "execution_count": 4,
   "metadata": {},
   "outputs": [],
   "source": [
    "def strip_tags(html):\n",
    "    s = MLStripper()\n",
    "    s.feed(str(html))\n",
    "    return s.get_data()\n",
    "\n",
    "def remove_tabulations(text):\n",
    "    text = str(text)\n",
    "    return(text.replace(\"\\r\", ' ').replace(\"\\t\", ' ').replace(\"\\n\", ' '))\n",
    "\n",
    "def clean_text(text):\n",
    "    # Remove HTML tags\n",
    "    text = strip_tags(text)\n",
    "    # Remove tabulation\n",
    "    text = remove_tabulations(text)\n",
    "    # convert to lower case\n",
    "    text = text.lower()\n",
    "    # Remove special characters\n",
    "    text = re.sub('\\[.*?\\]', ' ', text)\n",
    "    # Remove punctuation\n",
    "    text = re.sub('[%s]' % re.escape(string.punctuation), ' ', text)\n",
    "    # normalize whitespace\n",
    "    text = ' '.join(text.split())\n",
    "    return text\n",
    "\n",
    "def clean_text_basic(text):\n",
    "    # remove whitespace before and after\n",
    "    text = text.strip()\n",
    "    # normalize whitespace\n",
    "    text = ' '.join(text.split())\n",
    "    return text"
   ]
  },
  {
   "cell_type": "markdown",
   "metadata": {},
   "source": [
    "## Read the data"
   ]
  },
  {
   "cell_type": "code",
   "execution_count": 5,
   "metadata": {},
   "outputs": [],
   "source": [
    "laws_path = os.path.join(DATA_DIR, 'Climate Laws targets-23_03_2021.csv')\n",
    "events_path = os.path.join(DATA_DIR, 'events-23_03_2021.csv')\n",
    "legislations_path = os.path.join(DATA_DIR, 'legislations-23_03_2021.csv')"
   ]
  },
  {
   "cell_type": "code",
   "execution_count": 6,
   "metadata": {},
   "outputs": [],
   "source": [
    "# Add engine 'python' to avoid UnicodeDecodeError, as the cell values are surrounded by double quotes\n",
    "laws_pd = pd.read_csv(laws_path, sep=',', engine='python')\n",
    "events = pd.read_csv(events_path, sep=',', engine='python')\n",
    "legislations_path = pd.read_csv(legislations_path, sep=',', engine='python')"
   ]
  },
  {
   "cell_type": "markdown",
   "metadata": {},
   "source": [
    "## Get some basic statistics and show the heads"
   ]
  },
  {
   "cell_type": "markdown",
   "metadata": {},
   "source": [
    "### Climate laws targets"
   ]
  },
  {
   "cell_type": "code",
   "execution_count": 7,
   "metadata": {},
   "outputs": [
    {
     "name": "stdout",
     "output_type": "stream",
     "text": [
      "Columns Index(['Id', 'Target type', 'Description', 'Ghg target', 'Year',\n",
      "       'Base year period', 'Single year', 'Source', 'Geography',\n",
      "       'Geography iso', 'Sector', 'Connected law ids', 'Scopes',\n",
      "       'Visibility status'],\n",
      "      dtype='object')\n",
      "Shape (2161, 14)\n"
     ]
    },
    {
     "data": {
      "text/html": [
       "<div>\n",
       "<style scoped>\n",
       "    .dataframe tbody tr th:only-of-type {\n",
       "        vertical-align: middle;\n",
       "    }\n",
       "\n",
       "    .dataframe tbody tr th {\n",
       "        vertical-align: top;\n",
       "    }\n",
       "\n",
       "    .dataframe thead th {\n",
       "        text-align: right;\n",
       "    }\n",
       "</style>\n",
       "<table border=\"1\" class=\"dataframe\">\n",
       "  <thead>\n",
       "    <tr style=\"text-align: right;\">\n",
       "      <th></th>\n",
       "      <th>Id</th>\n",
       "      <th>Target type</th>\n",
       "      <th>Description</th>\n",
       "      <th>Ghg target</th>\n",
       "      <th>Year</th>\n",
       "      <th>Base year period</th>\n",
       "      <th>Single year</th>\n",
       "      <th>Source</th>\n",
       "      <th>Geography</th>\n",
       "      <th>Geography iso</th>\n",
       "      <th>Sector</th>\n",
       "      <th>Connected law ids</th>\n",
       "      <th>Scopes</th>\n",
       "      <th>Visibility status</th>\n",
       "    </tr>\n",
       "  </thead>\n",
       "  <tbody>\n",
       "    <tr>\n",
       "      <th>0</th>\n",
       "      <td>8977</td>\n",
       "      <td>not_applicable</td>\n",
       "      <td>&lt;div&gt;Seaports and airports functioning within ...</td>\n",
       "      <td>False</td>\n",
       "      <td>2030.0</td>\n",
       "      <td>NaN</td>\n",
       "      <td>False</td>\n",
       "      <td>plan</td>\n",
       "      <td>Dominica</td>\n",
       "      <td>DMA</td>\n",
       "      <td>Disaster Risk Management (Drm)</td>\n",
       "      <td>9751</td>\n",
       "      <td>NaN</td>\n",
       "      <td>published</td>\n",
       "    </tr>\n",
       "    <tr>\n",
       "      <th>1</th>\n",
       "      <td>8976</td>\n",
       "      <td>not_applicable</td>\n",
       "      <td>&lt;div&gt;90% of the population able to identify th...</td>\n",
       "      <td>False</td>\n",
       "      <td>2030.0</td>\n",
       "      <td>NaN</td>\n",
       "      <td>False</td>\n",
       "      <td>plan</td>\n",
       "      <td>Dominica</td>\n",
       "      <td>DMA</td>\n",
       "      <td>Other</td>\n",
       "      <td>9751</td>\n",
       "      <td>NaN</td>\n",
       "      <td>published</td>\n",
       "    </tr>\n",
       "    <tr>\n",
       "      <th>2</th>\n",
       "      <td>8975</td>\n",
       "      <td>not_applicable</td>\n",
       "      <td>&lt;div&gt;100% of national budgeting, policies in p...</td>\n",
       "      <td>False</td>\n",
       "      <td>2030.0</td>\n",
       "      <td>NaN</td>\n",
       "      <td>False</td>\n",
       "      <td>plan</td>\n",
       "      <td>Dominica</td>\n",
       "      <td>DMA</td>\n",
       "      <td>Public Sector</td>\n",
       "      <td>9751</td>\n",
       "      <td>NaN</td>\n",
       "      <td>published</td>\n",
       "    </tr>\n",
       "    <tr>\n",
       "      <th>3</th>\n",
       "      <td>8974</td>\n",
       "      <td>not_applicable</td>\n",
       "      <td>&lt;div&gt;50% increase healthy coral reef coverage ...</td>\n",
       "      <td>False</td>\n",
       "      <td>2030.0</td>\n",
       "      <td>NaN</td>\n",
       "      <td>False</td>\n",
       "      <td>plan</td>\n",
       "      <td>Dominica</td>\n",
       "      <td>DMA</td>\n",
       "      <td>Adaptation</td>\n",
       "      <td>9751</td>\n",
       "      <td>NaN</td>\n",
       "      <td>published</td>\n",
       "    </tr>\n",
       "    <tr>\n",
       "      <th>4</th>\n",
       "      <td>8973</td>\n",
       "      <td>not_applicable</td>\n",
       "      <td>&lt;div&gt;100% of telecommunications restored withi...</td>\n",
       "      <td>False</td>\n",
       "      <td>NaN</td>\n",
       "      <td>NaN</td>\n",
       "      <td>False</td>\n",
       "      <td>plan</td>\n",
       "      <td>Dominica</td>\n",
       "      <td>DMA</td>\n",
       "      <td>Disaster Risk Management (Drm)</td>\n",
       "      <td>9751</td>\n",
       "      <td>NaN</td>\n",
       "      <td>published</td>\n",
       "    </tr>\n",
       "  </tbody>\n",
       "</table>\n",
       "</div>"
      ],
      "text/plain": [
       "     Id     Target type                                        Description  \\\n",
       "0  8977  not_applicable  <div>Seaports and airports functioning within ...   \n",
       "1  8976  not_applicable  <div>90% of the population able to identify th...   \n",
       "2  8975  not_applicable  <div>100% of national budgeting, policies in p...   \n",
       "3  8974  not_applicable  <div>50% increase healthy coral reef coverage ...   \n",
       "4  8973  not_applicable  <div>100% of telecommunications restored withi...   \n",
       "\n",
       "   Ghg target    Year Base year period  Single year Source Geography  \\\n",
       "0       False  2030.0              NaN        False   plan  Dominica   \n",
       "1       False  2030.0              NaN        False   plan  Dominica   \n",
       "2       False  2030.0              NaN        False   plan  Dominica   \n",
       "3       False  2030.0              NaN        False   plan  Dominica   \n",
       "4       False     NaN              NaN        False   plan  Dominica   \n",
       "\n",
       "  Geography iso                          Sector Connected law ids Scopes  \\\n",
       "0           DMA  Disaster Risk Management (Drm)              9751    NaN   \n",
       "1           DMA                           Other              9751    NaN   \n",
       "2           DMA                   Public Sector              9751    NaN   \n",
       "3           DMA                      Adaptation              9751    NaN   \n",
       "4           DMA  Disaster Risk Management (Drm)              9751    NaN   \n",
       "\n",
       "  Visibility status  \n",
       "0         published  \n",
       "1         published  \n",
       "2         published  \n",
       "3         published  \n",
       "4         published  "
      ]
     },
     "execution_count": 7,
     "metadata": {},
     "output_type": "execute_result"
    }
   ],
   "source": [
    "print(\"Columns\", laws_pd.columns)\n",
    "print(\"Shape\", laws_pd.shape)\n",
    "\n",
    "laws_pd.head()"
   ]
  },
  {
   "cell_type": "code",
   "execution_count": 8,
   "metadata": {},
   "outputs": [
    {
     "data": {
      "text/plain": [
       "Id                      0\n",
       "Target type           767\n",
       "Description             3\n",
       "Ghg target              0\n",
       "Year                  312\n",
       "Base year period      997\n",
       "Single year             0\n",
       "Source                  0\n",
       "Geography               0\n",
       "Geography iso           0\n",
       "Sector                  0\n",
       "Connected law ids    1131\n",
       "Scopes                 15\n",
       "Visibility status       0\n",
       "dtype: int64"
      ]
     },
     "execution_count": 8,
     "metadata": {},
     "output_type": "execute_result"
    }
   ],
   "source": [
    "laws_pd.isnull().sum()"
   ]
  },
  {
   "cell_type": "code",
   "execution_count": 9,
   "metadata": {},
   "outputs": [],
   "source": [
    "laws_pd['DescriptionClean']=laws_pd['Description'].apply(lambda x: clean_text(x))\n",
    "laws_pd['NumWords']=laws_pd['DescriptionClean'].apply(lambda x: len(x.split()))"
   ]
  },
  {
   "cell_type": "code",
   "execution_count": 10,
   "metadata": {},
   "outputs": [
    {
     "data": {
      "text/plain": [
       "array([[<matplotlib.axes._subplots.AxesSubplot object at 0x000001F5B279CBA8>,\n",
       "        <matplotlib.axes._subplots.AxesSubplot object at 0x000001F5B27ADB00>,\n",
       "        <matplotlib.axes._subplots.AxesSubplot object at 0x000001F5B27BA550>],\n",
       "       [<matplotlib.axes._subplots.AxesSubplot object at 0x000001F5B27CAA58>,\n",
       "        <matplotlib.axes._subplots.AxesSubplot object at 0x000001F5B27D48D0>,\n",
       "        <matplotlib.axes._subplots.AxesSubplot object at 0x000001F5B27E8240>],\n",
       "       [<matplotlib.axes._subplots.AxesSubplot object at 0x000001F5B27F0898>,\n",
       "        <matplotlib.axes._subplots.AxesSubplot object at 0x000001F5B27FD1D0>,\n",
       "        <matplotlib.axes._subplots.AxesSubplot object at 0x000001F5B27FD208>]],\n",
       "      dtype=object)"
      ]
     },
     "execution_count": 10,
     "metadata": {},
     "output_type": "execute_result"
    }
   ],
   "source": [
    "laws_pd.hist(column='NumWords', by='Target type', figsize=(20,20))"
   ]
  },
  {
   "cell_type": "code",
   "execution_count": 11,
   "metadata": {},
   "outputs": [
    {
     "data": {
      "text/html": [
       "<div>\n",
       "<style scoped>\n",
       "    .dataframe tbody tr th:only-of-type {\n",
       "        vertical-align: middle;\n",
       "    }\n",
       "\n",
       "    .dataframe tbody tr th {\n",
       "        vertical-align: top;\n",
       "    }\n",
       "\n",
       "    .dataframe thead th {\n",
       "        text-align: right;\n",
       "    }\n",
       "</style>\n",
       "<table border=\"1\" class=\"dataframe\">\n",
       "  <thead>\n",
       "    <tr style=\"text-align: right;\">\n",
       "      <th></th>\n",
       "      <th>mean</th>\n",
       "      <th>median</th>\n",
       "      <th>sum</th>\n",
       "      <th>std</th>\n",
       "    </tr>\n",
       "    <tr>\n",
       "      <th>Target type</th>\n",
       "      <th></th>\n",
       "      <th></th>\n",
       "      <th></th>\n",
       "      <th></th>\n",
       "    </tr>\n",
       "  </thead>\n",
       "  <tbody>\n",
       "    <tr>\n",
       "      <th>base_year_target</th>\n",
       "      <td>16.425891</td>\n",
       "      <td>14</td>\n",
       "      <td>8755</td>\n",
       "      <td>10.721029</td>\n",
       "    </tr>\n",
       "    <tr>\n",
       "      <th>baseline_scenario_target</th>\n",
       "      <td>23.078947</td>\n",
       "      <td>22</td>\n",
       "      <td>2631</td>\n",
       "      <td>9.680877</td>\n",
       "    </tr>\n",
       "    <tr>\n",
       "      <th>fixed_level_target</th>\n",
       "      <td>17.150862</td>\n",
       "      <td>14</td>\n",
       "      <td>7958</td>\n",
       "      <td>11.389571</td>\n",
       "    </tr>\n",
       "    <tr>\n",
       "      <th>intensity_target</th>\n",
       "      <td>18.252874</td>\n",
       "      <td>16</td>\n",
       "      <td>1588</td>\n",
       "      <td>7.828419</td>\n",
       "    </tr>\n",
       "    <tr>\n",
       "      <th>intensity_target_and_trajectory_target</th>\n",
       "      <td>16.200000</td>\n",
       "      <td>10</td>\n",
       "      <td>81</td>\n",
       "      <td>10.497619</td>\n",
       "    </tr>\n",
       "    <tr>\n",
       "      <th>no_document_submitted</th>\n",
       "      <td>1.000000</td>\n",
       "      <td>1</td>\n",
       "      <td>1</td>\n",
       "      <td>NaN</td>\n",
       "    </tr>\n",
       "    <tr>\n",
       "      <th>not_applicable</th>\n",
       "      <td>5.638298</td>\n",
       "      <td>2</td>\n",
       "      <td>265</td>\n",
       "      <td>6.706342</td>\n",
       "    </tr>\n",
       "    <tr>\n",
       "      <th>trajectory_target</th>\n",
       "      <td>19.167832</td>\n",
       "      <td>16</td>\n",
       "      <td>2741</td>\n",
       "      <td>12.639635</td>\n",
       "    </tr>\n",
       "  </tbody>\n",
       "</table>\n",
       "</div>"
      ],
      "text/plain": [
       "                                             mean  median   sum        std\n",
       "Target type                                                               \n",
       "base_year_target                        16.425891      14  8755  10.721029\n",
       "baseline_scenario_target                23.078947      22  2631   9.680877\n",
       "fixed_level_target                      17.150862      14  7958  11.389571\n",
       "intensity_target                        18.252874      16  1588   7.828419\n",
       "intensity_target_and_trajectory_target  16.200000      10    81  10.497619\n",
       "no_document_submitted                    1.000000       1     1        NaN\n",
       "not_applicable                           5.638298       2   265   6.706342\n",
       "trajectory_target                       19.167832      16  2741  12.639635"
      ]
     },
     "execution_count": 11,
     "metadata": {},
     "output_type": "execute_result"
    }
   ],
   "source": [
    "laws_pd.groupby('Target type').agg(['mean', 'median', 'sum', 'std'])['NumWords']"
   ]
  },
  {
   "cell_type": "markdown",
   "metadata": {},
   "source": [
    "### Climate events"
   ]
  },
  {
   "cell_type": "code",
   "execution_count": 12,
   "metadata": {},
   "outputs": [
    {
     "name": "stdout",
     "output_type": "stream",
     "text": [
      "Columns Index(['Id', 'Eventable type', 'Eventable', 'Event type', 'Title',\n",
      "       'Description', 'Date', 'Url'],\n",
      "      dtype='object')\n",
      "Shape (2501, 8)\n"
     ]
    },
    {
     "data": {
      "text/html": [
       "<div>\n",
       "<style scoped>\n",
       "    .dataframe tbody tr th:only-of-type {\n",
       "        vertical-align: middle;\n",
       "    }\n",
       "\n",
       "    .dataframe tbody tr th {\n",
       "        vertical-align: top;\n",
       "    }\n",
       "\n",
       "    .dataframe thead th {\n",
       "        text-align: right;\n",
       "    }\n",
       "</style>\n",
       "<table border=\"1\" class=\"dataframe\">\n",
       "  <thead>\n",
       "    <tr style=\"text-align: right;\">\n",
       "      <th></th>\n",
       "      <th>Id</th>\n",
       "      <th>Eventable type</th>\n",
       "      <th>Eventable</th>\n",
       "      <th>Event type</th>\n",
       "      <th>Title</th>\n",
       "      <th>Description</th>\n",
       "      <th>Date</th>\n",
       "      <th>Url</th>\n",
       "    </tr>\n",
       "  </thead>\n",
       "  <tbody>\n",
       "    <tr>\n",
       "      <th>0</th>\n",
       "      <td>8804</td>\n",
       "      <td>Legislation</td>\n",
       "      <td>1571</td>\n",
       "      <td>Amended</td>\n",
       "      <td>Amended</td>\n",
       "      <td>NaN</td>\n",
       "      <td>20/01/2021</td>\n",
       "      <td>NaN</td>\n",
       "    </tr>\n",
       "    <tr>\n",
       "      <th>1</th>\n",
       "      <td>8803</td>\n",
       "      <td>Legislation</td>\n",
       "      <td>1571</td>\n",
       "      <td>Passed/Approved</td>\n",
       "      <td>Approved</td>\n",
       "      <td>NaN</td>\n",
       "      <td>25/10/2010</td>\n",
       "      <td>NaN</td>\n",
       "    </tr>\n",
       "    <tr>\n",
       "      <th>2</th>\n",
       "      <td>8802</td>\n",
       "      <td>Legislation</td>\n",
       "      <td>9769</td>\n",
       "      <td>Implementation Details</td>\n",
       "      <td>Guidance on implementation published</td>\n",
       "      <td>NaN</td>\n",
       "      <td>01/07/2020</td>\n",
       "      <td>NaN</td>\n",
       "    </tr>\n",
       "    <tr>\n",
       "      <th>3</th>\n",
       "      <td>8801</td>\n",
       "      <td>Legislation</td>\n",
       "      <td>9769</td>\n",
       "      <td>Entered Into Force</td>\n",
       "      <td>Law passed</td>\n",
       "      <td>NaN</td>\n",
       "      <td>28/08/2019</td>\n",
       "      <td>NaN</td>\n",
       "    </tr>\n",
       "    <tr>\n",
       "      <th>4</th>\n",
       "      <td>8797</td>\n",
       "      <td>Legislation</td>\n",
       "      <td>9768</td>\n",
       "      <td>Amended</td>\n",
       "      <td>Amended</td>\n",
       "      <td>NaN</td>\n",
       "      <td>12/05/2019</td>\n",
       "      <td>NaN</td>\n",
       "    </tr>\n",
       "  </tbody>\n",
       "</table>\n",
       "</div>"
      ],
      "text/plain": [
       "     Id Eventable type  Eventable              Event type  \\\n",
       "0  8804    Legislation       1571                 Amended   \n",
       "1  8803    Legislation       1571         Passed/Approved   \n",
       "2  8802    Legislation       9769  Implementation Details   \n",
       "3  8801    Legislation       9769      Entered Into Force   \n",
       "4  8797    Legislation       9768                 Amended   \n",
       "\n",
       "                                  Title Description        Date  Url  \n",
       "0                               Amended         NaN  20/01/2021  NaN  \n",
       "1                              Approved         NaN  25/10/2010  NaN  \n",
       "2  Guidance on implementation published         NaN  01/07/2020  NaN  \n",
       "3                            Law passed         NaN  28/08/2019  NaN  \n",
       "4                               Amended         NaN  12/05/2019  NaN  "
      ]
     },
     "execution_count": 12,
     "metadata": {},
     "output_type": "execute_result"
    }
   ],
   "source": [
    "print(\"Columns\", events.columns)\n",
    "print(\"Shape\", events.shape)\n",
    "\n",
    "events.head()"
   ]
  },
  {
   "cell_type": "code",
   "execution_count": 13,
   "metadata": {},
   "outputs": [
    {
     "data": {
      "text/plain": [
       "Id                   0\n",
       "Eventable type       0\n",
       "Eventable            0\n",
       "Event type           0\n",
       "Title                0\n",
       "Description       2481\n",
       "Date                 0\n",
       "Url               2501\n",
       "dtype: int64"
      ]
     },
     "execution_count": 13,
     "metadata": {},
     "output_type": "execute_result"
    }
   ],
   "source": [
    "events.isnull().sum()"
   ]
  },
  {
   "cell_type": "code",
   "execution_count": 14,
   "metadata": {},
   "outputs": [],
   "source": [
    "events['DescriptionClean']=events['Description'].apply(lambda x: clean_text(x))\n",
    "events['NumWords']=events['DescriptionClean'].apply(lambda x: len(x.split()))"
   ]
  },
  {
   "cell_type": "code",
   "execution_count": 15,
   "metadata": {},
   "outputs": [
    {
     "data": {
      "text/plain": [
       "array([[<matplotlib.axes._subplots.AxesSubplot object at 0x000001F5B7417AC8>,\n",
       "        <matplotlib.axes._subplots.AxesSubplot object at 0x000001F5B7439860>],\n",
       "       [<matplotlib.axes._subplots.AxesSubplot object at 0x000001F5B7464CC0>,\n",
       "        <matplotlib.axes._subplots.AxesSubplot object at 0x000001F5B7496278>],\n",
       "       [<matplotlib.axes._subplots.AxesSubplot object at 0x000001F5B74BA7F0>,\n",
       "        <matplotlib.axes._subplots.AxesSubplot object at 0x000001F5B74E5D68>]],\n",
       "      dtype=object)"
      ]
     },
     "execution_count": 15,
     "metadata": {},
     "output_type": "execute_result"
    },
    {
     "data": {
      "image/png": "[encoded data removed]",
      "text/plain": [
       "<Figure size 1440x1440 with 6 Axes>"
      ]
     },
     "metadata": {
      "needs_background": "light"
     },
     "output_type": "display_data"
    }
   ],
   "source": [
    "events.hist(column='NumWords', by='Event type', figsize=(20,20))"
   ]
  },
  {
   "cell_type": "code",
   "execution_count": null,
   "metadata": {},
   "outputs": [],
   "source": []
  }
 ],
 "metadata": {
  "kernelspec": {
   "display_name": "Python 3",
   "language": "python",
   "name": "python3"
  },
  "language_info": {
   "codemirror_mode": {
    "name": "ipython",
    "version": 3
   },
   "file_extension": ".py",
   "mimetype": "text/x-python",
   "name": "python",
   "nbconvert_exporter": "python",
   "pygments_lexer": "ipython3",
   "version": "3.6.5"
  }
 },
 "nbformat": 4,
 "nbformat_minor": 2
}
