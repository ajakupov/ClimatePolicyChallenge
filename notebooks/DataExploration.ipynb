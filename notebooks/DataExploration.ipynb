{
 "metadata": {
  "language_info": {
   "codemirror_mode": {
    "name": "ipython",
    "version": 3
   },
   "file_extension": ".py",
   "mimetype": "text/x-python",
   "name": "python",
   "nbconvert_exporter": "python",
   "pygments_lexer": "ipython3",
   "version": "3.6.5"
  },
  "orig_nbformat": 2,
  "kernelspec": {
   "name": "python3",
   "display_name": "Python 3.6.5 64-bit",
   "metadata": {
    "interpreter": {
     "hash": "14a3dea41308786c6250116f63170ee1ce4906f9726caa7e8b5b84d6f314e26b"
    }
   }
  }
 },
 "nbformat": 4,
 "nbformat_minor": 2,
 "cells": [
  {
   "source": [
    "# This is the explorative notebook. We perform basic statistics and do some basic data modeling\n",
    "## Here are some of the questions we might try to answer:\n",
    "1. what is the focus of policy documents and what tools do they operationalise? For example, here we looked at a series of laws that deal with adapting to climate change (that is - how do we deal with what's already coming, e.g. extreme weather events) and asked a few questions.\n",
    "2. what events are the laws focusing on - droughts? floods? hurricanes? wildfires? It's good to know, because it allows a gap analysis of what are some of the unaddressed challenges - if you are prone to floods, you really want a law that sorts out flood barriers and flood insurance, or planning and resource for wildfire prevention and control if you're in a fire risk area.\n",
    "3. what kind of measures does the document include? are there taxes/subsidies? standards? basically, how does the policy work?\n",
    "\n",
    "The findings from this are summarised in this policy brief. It was a horrible manual job. The subset of laws analysed here can be found if you filter the dataset to include the word adaptation in the 'framework ' field.\n"
   ],
   "cell_type": "markdown",
   "metadata": {}
  },
  {
   "cell_type": "code",
   "execution_count": 1,
   "metadata": {},
   "outputs": [],
   "source": [
    "import os\n",
    "import pandas as pd"
   ]
  },
  {
   "source": [
    "## Define the constants"
   ],
   "cell_type": "markdown",
   "metadata": {}
  },
  {
   "cell_type": "code",
   "execution_count": 5,
   "metadata": {},
   "outputs": [],
   "source": [
    "DATA_DIR = '../data'"
   ]
  },
  {
   "source": [
    "## Read the data"
   ],
   "cell_type": "markdown",
   "metadata": {}
  },
  {
   "cell_type": "code",
   "execution_count": 6,
   "metadata": {},
   "outputs": [],
   "source": [
    "laws_path = os.path.join(DATA_DIR, 'Climate Laws targets-23_03_2021.csv')\n",
    "events_path = os.path.join(DATA_DIR, 'events-23_03_2021.csv')\n",
    "legislations_path = os.path.join(DATA_DIR, 'legislations-23_03_2021.csv')"
   ]
  },
  {
   "cell_type": "code",
   "execution_count": 12,
   "metadata": {},
   "outputs": [],
   "source": [
    "# Add engine 'python' to avoid UnicodeDecodeError, as the cell values are surrounded by double quotes\n",
    "laws_pd = pd.read_csv(laws_path, sep=',', engine='python')\n",
    "events = pd.read_csv(events_path, sep=',', engine='python')\n",
    "legislations_path = pd.read_csv(legislations_path, sep=',', engine='python')"
   ]
  },
  {
   "source": [
    "## Get some basic statistics and show the heads"
   ],
   "cell_type": "markdown",
   "metadata": {}
  },
  {
   "source": [
    "### Climate laws targets"
   ],
   "cell_type": "markdown",
   "metadata": {}
  },
  {
   "cell_type": "code",
   "execution_count": 18,
   "metadata": {},
   "outputs": [
    {
     "output_type": "stream",
     "name": "stdout",
     "text": [
      "Columns Index(['Id', 'Target type', 'Description', 'Ghg target', 'Year',\n       'Base year period', 'Single year', 'Source', 'Geography',\n       'Geography iso', 'Sector', 'Connected law ids', 'Scopes',\n       'Visibility status'],\n      dtype='object')\nShape (2161, 14)\n"
     ]
    },
    {
     "output_type": "execute_result",
     "data": {
      "text/plain": [
       "     Id     Target type                                        Description  \\\n",
       "0  8977  not_applicable  <div>Seaports and airports functioning within ...   \n",
       "1  8976  not_applicable  <div>90% of the population able to identify th...   \n",
       "2  8975  not_applicable  <div>100% of national budgeting, policies in p...   \n",
       "3  8974  not_applicable  <div>50% increase healthy coral reef coverage ...   \n",
       "4  8973  not_applicable  <div>100% of telecommunications restored withi...   \n",
       "\n",
       "   Ghg target    Year Base year period  Single year Source Geography  \\\n",
       "0       False  2030.0              NaN        False   plan  Dominica   \n",
       "1       False  2030.0              NaN        False   plan  Dominica   \n",
       "2       False  2030.0              NaN        False   plan  Dominica   \n",
       "3       False  2030.0              NaN        False   plan  Dominica   \n",
       "4       False     NaN              NaN        False   plan  Dominica   \n",
       "\n",
       "  Geography iso                          Sector Connected law ids Scopes  \\\n",
       "0           DMA  Disaster Risk Management (Drm)              9751    NaN   \n",
       "1           DMA                           Other              9751    NaN   \n",
       "2           DMA                   Public Sector              9751    NaN   \n",
       "3           DMA                      Adaptation              9751    NaN   \n",
       "4           DMA  Disaster Risk Management (Drm)              9751    NaN   \n",
       "\n",
       "  Visibility status  \n",
       "0         published  \n",
       "1         published  \n",
       "2         published  \n",
       "3         published  \n",
       "4         published  "
      ],
      "text/html": "<div>\n<style scoped>\n    .dataframe tbody tr th:only-of-type {\n        vertical-align: middle;\n    }\n\n    .dataframe tbody tr th {\n        vertical-align: top;\n    }\n\n    .dataframe thead th {\n        text-align: right;\n    }\n</style>\n<table border=\"1\" class=\"dataframe\">\n  <thead>\n    <tr style=\"text-align: right;\">\n      <th></th>\n      <th>Id</th>\n      <th>Target type</th>\n      <th>Description</th>\n      <th>Ghg target</th>\n      <th>Year</th>\n      <th>Base year period</th>\n      <th>Single year</th>\n      <th>Source</th>\n      <th>Geography</th>\n      <th>Geography iso</th>\n      <th>Sector</th>\n      <th>Connected law ids</th>\n      <th>Scopes</th>\n      <th>Visibility status</th>\n    </tr>\n  </thead>\n  <tbody>\n    <tr>\n      <th>0</th>\n      <td>8977</td>\n      <td>not_applicable</td>\n      <td>&lt;div&gt;Seaports and airports functioning within ...</td>\n      <td>False</td>\n      <td>2030.0</td>\n      <td>NaN</td>\n      <td>False</td>\n      <td>plan</td>\n      <td>Dominica</td>\n      <td>DMA</td>\n      <td>Disaster Risk Management (Drm)</td>\n      <td>9751</td>\n      <td>NaN</td>\n      <td>published</td>\n    </tr>\n    <tr>\n      <th>1</th>\n      <td>8976</td>\n      <td>not_applicable</td>\n      <td>&lt;div&gt;90% of the population able to identify th...</td>\n      <td>False</td>\n      <td>2030.0</td>\n      <td>NaN</td>\n      <td>False</td>\n      <td>plan</td>\n      <td>Dominica</td>\n      <td>DMA</td>\n      <td>Other</td>\n      <td>9751</td>\n      <td>NaN</td>\n      <td>published</td>\n    </tr>\n    <tr>\n      <th>2</th>\n      <td>8975</td>\n      <td>not_applicable</td>\n      <td>&lt;div&gt;100% of national budgeting, policies in p...</td>\n      <td>False</td>\n      <td>2030.0</td>\n      <td>NaN</td>\n      <td>False</td>\n      <td>plan</td>\n      <td>Dominica</td>\n      <td>DMA</td>\n      <td>Public Sector</td>\n      <td>9751</td>\n      <td>NaN</td>\n      <td>published</td>\n    </tr>\n    <tr>\n      <th>3</th>\n      <td>8974</td>\n      <td>not_applicable</td>\n      <td>&lt;div&gt;50% increase healthy coral reef coverage ...</td>\n      <td>False</td>\n      <td>2030.0</td>\n      <td>NaN</td>\n      <td>False</td>\n      <td>plan</td>\n      <td>Dominica</td>\n      <td>DMA</td>\n      <td>Adaptation</td>\n      <td>9751</td>\n      <td>NaN</td>\n      <td>published</td>\n    </tr>\n    <tr>\n      <th>4</th>\n      <td>8973</td>\n      <td>not_applicable</td>\n      <td>&lt;div&gt;100% of telecommunications restored withi...</td>\n      <td>False</td>\n      <td>NaN</td>\n      <td>NaN</td>\n      <td>False</td>\n      <td>plan</td>\n      <td>Dominica</td>\n      <td>DMA</td>\n      <td>Disaster Risk Management (Drm)</td>\n      <td>9751</td>\n      <td>NaN</td>\n      <td>published</td>\n    </tr>\n  </tbody>\n</table>\n</div>"
     },
     "metadata": {},
     "execution_count": 18
    }
   ],
   "source": [
    "print(\"Columns\", laws_pd.columns)\n",
    "print(\"Shape\", laws_pd.shape)\n",
    "\n",
    "laws_pd.head()"
   ]
  },
  {
   "cell_type": "code",
   "execution_count": 19,
   "metadata": {},
   "outputs": [
    {
     "output_type": "execute_result",
     "data": {
      "text/plain": [
       "Id                      0\n",
       "Target type           767\n",
       "Description             3\n",
       "Ghg target              0\n",
       "Year                  312\n",
       "Base year period      997\n",
       "Single year             0\n",
       "Source                  0\n",
       "Geography               0\n",
       "Geography iso           0\n",
       "Sector                  0\n",
       "Connected law ids    1131\n",
       "Scopes                 15\n",
       "Visibility status       0\n",
       "dtype: int64"
      ]
     },
     "metadata": {},
     "execution_count": 19
    }
   ],
   "source": [
    "laws_pd.isnull().sum()"
   ]
  },
  {
   "source": [
    "### Climate events"
   ],
   "cell_type": "markdown",
   "metadata": {}
  },
  {
   "cell_type": "code",
   "execution_count": null,
   "metadata": {},
   "outputs": [],
   "source": []
  }
 ]
}